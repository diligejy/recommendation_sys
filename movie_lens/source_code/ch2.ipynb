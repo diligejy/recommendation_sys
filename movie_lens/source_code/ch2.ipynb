{
 "cells": [
  {
   "cell_type": "code",
   "execution_count": 1,
   "metadata": {},
   "outputs": [],
   "source": [
    "import math\n",
    "import numpy as np"
   ]
  },
  {
   "cell_type": "markdown",
   "metadata": {},
   "source": [
    "## Item Similarity"
   ]
  },
  {
   "cell_type": "code",
   "execution_count": 2,
   "metadata": {},
   "outputs": [],
   "source": [
    "matrix = np.array(\n",
    "    [\n",
    "        [0, 1, 0, 0, 0, 0, 0, 0],\n",
    "        [1, 0, 1, 0, 0, 0, 0, 1],\n",
    "        [0, 1, 0, 0, 1, 0, 0, 0],\n",
    "        [1, 0, 0, 0, 0, 0, 0, 0],\n",
    "        [0, 0, 0, 1, 0, 0, 0, 0],\n",
    "        [0, 0, 0, 1, 1, 0, 0, 0],\n",
    "        [0, 1, 0, 0, 0, 0, 0, 0], \n",
    "        [0, 0, 0, 1, 1, 0, 0, 0], \n",
    "        [0, 0, 0, 0, 0, 1, 1, 1], \n",
    "        [0, 0, 1, 1, 0, 0, 0, 0], \n",
    "        [0, 1, 0, 1, 1, 0, 0, 0]\n",
    "    ]\n",
    ")"
   ]
  },
  {
   "cell_type": "code",
   "execution_count": 3,
   "metadata": {},
   "outputs": [
    {
     "name": "stdout",
     "output_type": "stream",
     "text": [
      "Items :  11\n",
      "Genres :  8\n"
     ]
    }
   ],
   "source": [
    "print(\"Items : \", matrix.shape[0])\n",
    "print(\"Genres : \", matrix.shape[1])"
   ]
  },
  {
   "cell_type": "code",
   "execution_count": 4,
   "metadata": {},
   "outputs": [
    {
     "data": {
      "text/plain": [
       "array([[0., 0., 0., 0., 0., 0., 0., 0.],\n",
       "       [0., 0., 0., 0., 0., 0., 0., 0.],\n",
       "       [0., 0., 0., 0., 0., 0., 0., 0.],\n",
       "       [0., 0., 0., 0., 0., 0., 0., 0.],\n",
       "       [0., 0., 0., 0., 0., 0., 0., 0.],\n",
       "       [0., 0., 0., 0., 0., 0., 0., 0.],\n",
       "       [0., 0., 0., 0., 0., 0., 0., 0.],\n",
       "       [0., 0., 0., 0., 0., 0., 0., 0.],\n",
       "       [0., 0., 0., 0., 0., 0., 0., 0.],\n",
       "       [0., 0., 0., 0., 0., 0., 0., 0.],\n",
       "       [0., 0., 0., 0., 0., 0., 0., 0.]])"
      ]
     },
     "execution_count": 4,
     "metadata": {},
     "output_type": "execute_result"
    }
   ],
   "source": [
    "totalItems = matrix.shape[0]\n",
    "totalGenres = matrix.shape[1]\n",
    "\n",
    "weights = np.zeros(matrix.shape)\n",
    "weights"
   ]
  },
  {
   "cell_type": "code",
   "execution_count": 5,
   "metadata": {},
   "outputs": [
    {
     "data": {
      "text/plain": [
       "array([[0.        , 0.43933269, 0.        , 0.        , 0.        ,\n",
       "        0.        , 0.        , 0.        ],\n",
       "       [0.74036269, 0.        , 0.74036269, 0.        , 0.        ,\n",
       "        0.        , 0.        , 0.74036269],\n",
       "       [0.        , 0.43933269, 0.        , 0.        , 0.43933269,\n",
       "        0.        , 0.        , 0.        ],\n",
       "       [0.74036269, 0.        , 0.        , 0.        , 0.        ,\n",
       "        0.        , 0.        , 0.        ],\n",
       "       [0.        , 0.        , 0.        , 0.34242268, 0.        ,\n",
       "        0.        , 0.        , 0.        ],\n",
       "       [0.        , 0.        , 0.        , 0.34242268, 0.43933269,\n",
       "        0.        , 0.        , 0.        ],\n",
       "       [0.        , 0.43933269, 0.        , 0.        , 0.        ,\n",
       "        0.        , 0.        , 0.        ],\n",
       "       [0.        , 0.        , 0.        , 0.34242268, 0.43933269,\n",
       "        0.        , 0.        , 0.        ],\n",
       "       [0.        , 0.        , 0.        , 0.        , 0.        ,\n",
       "        1.04139269, 1.04139269, 0.74036269],\n",
       "       [0.        , 0.        , 0.74036269, 0.34242268, 0.        ,\n",
       "        0.        , 0.        , 0.        ],\n",
       "       [0.        , 0.43933269, 0.        , 0.34242268, 0.43933269,\n",
       "        0.        , 0.        , 0.        ]])"
      ]
     },
     "execution_count": 5,
     "metadata": {},
     "output_type": "execute_result"
    }
   ],
   "source": [
    "for i in range(0, totalGenres):\n",
    "    col = matrix[:, i]\n",
    "    # document frequency\n",
    "    df = col.sum()\n",
    "    idf = math.log10(totalItems/df)\n",
    "    for j in range(0, totalItems):\n",
    "        weights[j, i] = matrix[j, i] * idf\n",
    "\n",
    "weights"
   ]
  },
  {
   "cell_type": "markdown",
   "metadata": {},
   "source": [
    "## L2 Norm"
   ]
  },
  {
   "cell_type": "code",
   "execution_count": 6,
   "metadata": {},
   "outputs": [],
   "source": [
    "def norm2(arr):\n",
    "    sum = 0.0 \n",
    "    for i in range(0, len(arr)):\n",
    "        sum += arr[i] * arr[i]\n",
    "    return math.sqrt(sum)"
   ]
  },
  {
   "cell_type": "code",
   "execution_count": 7,
   "metadata": {},
   "outputs": [
    {
     "name": "stdout",
     "output_type": "stream",
     "text": [
      "[0.         0.43933269 0.         0.         0.         0.\n",
      " 0.         0.        ] => 0.43933269383026263\n"
     ]
    }
   ],
   "source": [
    "print(weights[0], \"=>\", norm2(weights[0]))"
   ]
  },
  {
   "cell_type": "markdown",
   "metadata": {},
   "source": [
    "## Inner Product"
   ]
  },
  {
   "cell_type": "code",
   "execution_count": 8,
   "metadata": {},
   "outputs": [],
   "source": [
    "def dot(arr1, arr2):\n",
    "    sum = 0.0 \n",
    "    for i in range(0, len(arr1)):\n",
    "        sum += arr1[i] * arr2[i]\n",
    "    return sum "
   ]
  },
  {
   "cell_type": "code",
   "execution_count": 9,
   "metadata": {},
   "outputs": [
    {
     "name": "stdout",
     "output_type": "stream",
     "text": [
      "0.0\n",
      "0.19301321586815529\n",
      "0.0\n"
     ]
    }
   ],
   "source": [
    "print(dot(weights[0], weights[1]))\n",
    "print(dot(weights[0], weights[2]))\n",
    "print(dot(weights[0], weights[3]))"
   ]
  },
  {
   "cell_type": "markdown",
   "metadata": {},
   "source": [
    "## Cosine Similarity"
   ]
  },
  {
   "cell_type": "code",
   "execution_count": 10,
   "metadata": {},
   "outputs": [],
   "source": [
    "def cosine(arr1, arr2):\n",
    "    return dot(arr1, arr2) / (norm2(arr1) * norm2(arr2))"
   ]
  },
  {
   "cell_type": "code",
   "execution_count": 12,
   "metadata": {},
   "outputs": [
    {
     "name": "stdout",
     "output_type": "stream",
     "text": [
      "0.0\n",
      "0.7071067811865475\n",
      "0.0\n"
     ]
    }
   ],
   "source": [
    "print(cosine(weights[0], weights[1]))\n",
    "print(cosine(weights[0], weights[2]))\n",
    "print(cosine(weights[0], weights[3]))"
   ]
  },
  {
   "cell_type": "code",
   "execution_count": 13,
   "metadata": {},
   "outputs": [],
   "source": [
    "from numpy import linalg as LA"
   ]
  },
  {
   "cell_type": "code",
   "execution_count": 14,
   "metadata": {},
   "outputs": [],
   "source": [
    "norms = LA.norm(weights, ord=2, axis=1)"
   ]
  },
  {
   "cell_type": "code",
   "execution_count": 15,
   "metadata": {},
   "outputs": [
    {
     "data": {
      "text/plain": [
       "array([0.43933269, 1.28234579, 0.62131025, 0.74036269, 0.34242268,\n",
       "       0.55701572, 0.43933269, 0.55701572, 1.64837325, 0.81571454,\n",
       "       0.70942211])"
      ]
     },
     "execution_count": 15,
     "metadata": {},
     "output_type": "execute_result"
    }
   ],
   "source": [
    "norms"
   ]
  },
  {
   "cell_type": "code",
   "execution_count": 17,
   "metadata": {},
   "outputs": [
    {
     "data": {
      "text/plain": [
       "array([[0.19301322, 0.        , 0.19301322, 0.        , 0.        ,\n",
       "        0.        , 0.19301322, 0.        , 0.        , 0.        ,\n",
       "        0.19301322],\n",
       "       [0.        , 1.64441074, 0.        , 0.54813691, 0.        ,\n",
       "        0.        , 0.        , 0.        , 0.54813691, 0.54813691,\n",
       "        0.        ],\n",
       "       [0.19301322, 0.        , 0.38602643, 0.        , 0.        ,\n",
       "        0.19301322, 0.19301322, 0.19301322, 0.        , 0.        ,\n",
       "        0.38602643],\n",
       "       [0.        , 0.54813691, 0.        , 0.54813691, 0.        ,\n",
       "        0.        , 0.        , 0.        , 0.        , 0.        ,\n",
       "        0.        ],\n",
       "       [0.        , 0.        , 0.        , 0.        , 0.11725329,\n",
       "        0.11725329, 0.        , 0.11725329, 0.        , 0.11725329,\n",
       "        0.11725329],\n",
       "       [0.        , 0.        , 0.19301322, 0.        , 0.11725329,\n",
       "        0.31026651, 0.        , 0.31026651, 0.        , 0.11725329,\n",
       "        0.31026651],\n",
       "       [0.19301322, 0.        , 0.19301322, 0.        , 0.        ,\n",
       "        0.        , 0.19301322, 0.        , 0.        , 0.        ,\n",
       "        0.19301322],\n",
       "       [0.        , 0.        , 0.19301322, 0.        , 0.11725329,\n",
       "        0.31026651, 0.        , 0.31026651, 0.        , 0.11725329,\n",
       "        0.31026651],\n",
       "       [0.        , 0.54813691, 0.        , 0.        , 0.        ,\n",
       "        0.        , 0.        , 0.        , 2.71713436, 0.        ,\n",
       "        0.        ],\n",
       "       [0.        , 0.54813691, 0.        , 0.        , 0.11725329,\n",
       "        0.11725329, 0.        , 0.11725329, 0.        , 0.6653902 ,\n",
       "        0.11725329],\n",
       "       [0.19301322, 0.        , 0.38602643, 0.        , 0.11725329,\n",
       "        0.31026651, 0.19301322, 0.31026651, 0.        , 0.11725329,\n",
       "        0.50327972]])"
      ]
     },
     "execution_count": 17,
     "metadata": {},
     "output_type": "execute_result"
    }
   ],
   "source": [
    "dots = np.matmul(weights, weights.T)\n",
    "dots"
   ]
  },
  {
   "cell_type": "code",
   "execution_count": 18,
   "metadata": {},
   "outputs": [
    {
     "data": {
      "text/plain": [
       "array([[1.        , 0.        , 0.70710678, 0.        , 0.        ,\n",
       "        0.        , 1.        , 0.        , 0.        , 0.        ,\n",
       "        0.6192825 ],\n",
       "       [0.        , 1.        , 0.        , 0.57735027, 0.        ,\n",
       "        0.        , 0.        , 0.        , 0.25931542, 0.52401738,\n",
       "        0.        ],\n",
       "       [0.70710678, 0.        , 1.        , 0.        , 0.        ,\n",
       "        0.5577134 , 0.70710678, 0.5577134 , 0.        , 0.        ,\n",
       "        0.87579771],\n",
       "       [0.        , 0.57735027, 0.        , 1.        , 0.        ,\n",
       "        0.        , 0.        , 0.        , 0.        , 0.        ,\n",
       "        0.        ],\n",
       "       [0.        , 0.        , 0.        , 0.        , 1.        ,\n",
       "        0.6147451 , 0.        , 0.6147451 , 0.        , 0.41978249,\n",
       "        0.48267834],\n",
       "       [0.        , 0.        , 0.5577134 , 0.        , 0.6147451 ,\n",
       "        1.        , 0.        , 1.        , 0.        , 0.25805923,\n",
       "        0.78516825],\n",
       "       [1.        , 0.        , 0.70710678, 0.        , 0.        ,\n",
       "        0.        , 1.        , 0.        , 0.        , 0.        ,\n",
       "        0.6192825 ],\n",
       "       [0.        , 0.        , 0.5577134 , 0.        , 0.6147451 ,\n",
       "        1.        , 0.        , 1.        , 0.        , 0.25805923,\n",
       "        0.78516825],\n",
       "       [0.        , 0.25931542, 0.        , 0.        , 0.        ,\n",
       "        0.        , 0.        , 0.        , 1.        , 0.        ,\n",
       "        0.        ],\n",
       "       [0.        , 0.52401738, 0.        , 0.        , 0.41978249,\n",
       "        0.25805923, 0.        , 0.25805923, 0.        , 1.        ,\n",
       "        0.20261991],\n",
       "       [0.6192825 , 0.        , 0.87579771, 0.        , 0.48267834,\n",
       "        0.78516825, 0.6192825 , 0.78516825, 0.        , 0.20261991,\n",
       "        1.        ]])"
      ]
     },
     "execution_count": 18,
     "metadata": {},
     "output_type": "execute_result"
    }
   ],
   "source": [
    "sims = np.divide(np.divide(dots, norms).T, norms)\n",
    "sims"
   ]
  },
  {
   "cell_type": "code",
   "execution_count": null,
   "metadata": {},
   "outputs": [],
   "source": []
  }
 ],
 "metadata": {
  "interpreter": {
   "hash": "b3ba2566441a7c06988d0923437866b63cedc61552a5af99d1f4fb67d367b25f"
  },
  "kernelspec": {
   "display_name": "Python 3.8.5 64-bit ('base': conda)",
   "name": "python3"
  },
  "language_info": {
   "codemirror_mode": {
    "name": "ipython",
    "version": 3
   },
   "file_extension": ".py",
   "mimetype": "text/x-python",
   "name": "python",
   "nbconvert_exporter": "python",
   "pygments_lexer": "ipython3",
   "version": "3.8.5"
  },
  "orig_nbformat": 4
 },
 "nbformat": 4,
 "nbformat_minor": 2
}
