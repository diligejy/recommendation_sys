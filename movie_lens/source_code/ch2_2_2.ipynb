{
 "cells": [
  {
   "cell_type": "code",
   "execution_count": 26,
   "metadata": {},
   "outputs": [],
   "source": [
    "import pandas as pd\n",
    "import numpy as np\n",
    "import math"
   ]
  },
  {
   "cell_type": "code",
   "execution_count": 2,
   "metadata": {},
   "outputs": [],
   "source": [
    "movies = pd.read_csv('../rawdata/movies_w_imgurl.csv')"
   ]
  },
  {
   "cell_type": "code",
   "execution_count": 3,
   "metadata": {},
   "outputs": [
    {
     "data": {
      "text/html": [
       "<div>\n",
       "<style scoped>\n",
       "    .dataframe tbody tr th:only-of-type {\n",
       "        vertical-align: middle;\n",
       "    }\n",
       "\n",
       "    .dataframe tbody tr th {\n",
       "        vertical-align: top;\n",
       "    }\n",
       "\n",
       "    .dataframe thead th {\n",
       "        text-align: right;\n",
       "    }\n",
       "</style>\n",
       "<table border=\"1\" class=\"dataframe\">\n",
       "  <thead>\n",
       "    <tr style=\"text-align: right;\">\n",
       "      <th></th>\n",
       "      <th>movieId</th>\n",
       "      <th>imdbId</th>\n",
       "      <th>title</th>\n",
       "      <th>genres</th>\n",
       "      <th>imgurl</th>\n",
       "    </tr>\n",
       "  </thead>\n",
       "  <tbody>\n",
       "    <tr>\n",
       "      <th>0</th>\n",
       "      <td>1</td>\n",
       "      <td>114709</td>\n",
       "      <td>Toy Story (1995)</td>\n",
       "      <td>Adventure|Animation|Children|Comedy|Fantasy</td>\n",
       "      <td>https://images-na.ssl-images-amazon.com/images...</td>\n",
       "    </tr>\n",
       "    <tr>\n",
       "      <th>1</th>\n",
       "      <td>2</td>\n",
       "      <td>113497</td>\n",
       "      <td>Jumanji (1995)</td>\n",
       "      <td>Adventure|Children|Fantasy</td>\n",
       "      <td>https://images-na.ssl-images-amazon.com/images...</td>\n",
       "    </tr>\n",
       "    <tr>\n",
       "      <th>2</th>\n",
       "      <td>3</td>\n",
       "      <td>113228</td>\n",
       "      <td>Grumpier Old Men (1995)</td>\n",
       "      <td>Comedy|Romance</td>\n",
       "      <td>https://images-na.ssl-images-amazon.com/images...</td>\n",
       "    </tr>\n",
       "    <tr>\n",
       "      <th>3</th>\n",
       "      <td>4</td>\n",
       "      <td>114885</td>\n",
       "      <td>Waiting to Exhale (1995)</td>\n",
       "      <td>Comedy|Drama|Romance</td>\n",
       "      <td>https://images-na.ssl-images-amazon.com/images...</td>\n",
       "    </tr>\n",
       "    <tr>\n",
       "      <th>4</th>\n",
       "      <td>5</td>\n",
       "      <td>113041</td>\n",
       "      <td>Father of the Bride Part II (1995)</td>\n",
       "      <td>Comedy</td>\n",
       "      <td>https://images-na.ssl-images-amazon.com/images...</td>\n",
       "    </tr>\n",
       "  </tbody>\n",
       "</table>\n",
       "</div>"
      ],
      "text/plain": [
       "   movieId  imdbId                               title  \\\n",
       "0        1  114709                    Toy Story (1995)   \n",
       "1        2  113497                      Jumanji (1995)   \n",
       "2        3  113228             Grumpier Old Men (1995)   \n",
       "3        4  114885            Waiting to Exhale (1995)   \n",
       "4        5  113041  Father of the Bride Part II (1995)   \n",
       "\n",
       "                                        genres  \\\n",
       "0  Adventure|Animation|Children|Comedy|Fantasy   \n",
       "1                   Adventure|Children|Fantasy   \n",
       "2                               Comedy|Romance   \n",
       "3                         Comedy|Drama|Romance   \n",
       "4                                       Comedy   \n",
       "\n",
       "                                              imgurl  \n",
       "0  https://images-na.ssl-images-amazon.com/images...  \n",
       "1  https://images-na.ssl-images-amazon.com/images...  \n",
       "2  https://images-na.ssl-images-amazon.com/images...  \n",
       "3  https://images-na.ssl-images-amazon.com/images...  \n",
       "4  https://images-na.ssl-images-amazon.com/images...  "
      ]
     },
     "execution_count": 3,
     "metadata": {},
     "output_type": "execute_result"
    }
   ],
   "source": [
    "movies.head()"
   ]
  },
  {
   "cell_type": "code",
   "execution_count": 20,
   "metadata": {},
   "outputs": [
    {
     "name": "stdout",
     "output_type": "stream",
     "text": [
      "movieId                                                    1\n",
      "imdbId                                                114709\n",
      "title                                       Toy Story (1995)\n",
      "genres           Adventure|Animation|Children|Comedy|Fantasy\n",
      "imgurl     https://images-na.ssl-images-amazon.com/images...\n",
      "Name: 0, dtype: object\n",
      "1\n",
      "movieId                                                    2\n",
      "imdbId                                                113497\n",
      "title                                         Jumanji (1995)\n",
      "genres                            Adventure|Children|Fantasy\n",
      "imgurl     https://images-na.ssl-images-amazon.com/images...\n",
      "Name: 1, dtype: object\n",
      "2\n",
      "movieId                                                    3\n",
      "imdbId                                                113228\n",
      "title                                Grumpier Old Men (1995)\n",
      "genres                                        Comedy|Romance\n",
      "imgurl     https://images-na.ssl-images-amazon.com/images...\n",
      "Name: 2, dtype: object\n",
      "3\n"
     ]
    },
    {
     "data": {
      "text/html": [
       "\n",
       "            <div style=\"display:inline-block;min-width:150px;max-width:150px; vertical-align:top\">\n",
       "                <img src='https://images-na.ssl-images-amazon.com/images/M/MV5BMDU2ZWJlMjktMTRhMy00ZTA5LWEzNDgtYmNmZTEwZTViZWJkXkEyXkFqcGdeQXVyNDQ2OTk4MzI@._V1_UX182_CR0,0,182,268_AL_.jpg' width=120> <br/>\n",
       "                <span>Toy Story (1995)</span> <br/>\n",
       "                <span>4</span> <br/>\n",
       "                <span><li>Adventure</li><li>Animation</li><li>Children</li><li>Comedy</li><li>Fantasy</li></span>\n",
       "            </div>\n",
       "        \n",
       "            <div style=\"display:inline-block;min-width:150px;max-width:150px; vertical-align:top\">\n",
       "                <img src='https://images-na.ssl-images-amazon.com/images/M/MV5BZTk2ZmUwYmEtNTcwZS00YmMyLWFkYjMtNTRmZDA3YWExMjc2XkEyXkFqcGdeQXVyMTQxNzMzNDI@._V1_UY268_CR10,0,182,268_AL_.jpg' width=120> <br/>\n",
       "                <span>Jumanji (1995)</span> <br/>\n",
       "                <span>3</span> <br/>\n",
       "                <span><li>Adventure</li><li>Children</li><li>Fantasy</li></span>\n",
       "            </div>\n",
       "        \n",
       "            <div style=\"display:inline-block;min-width:150px;max-width:150px; vertical-align:top\">\n",
       "                <img src='https://images-na.ssl-images-amazon.com/images/M/MV5BMjQxM2YyNjMtZjUxYy00OGYyLTg0MmQtNGE2YzNjYmUyZTY1XkEyXkFqcGdeQXVyMTQxNzMzNDI@._V1_UX182_CR0,0,182,268_AL_.jpg' width=120> <br/>\n",
       "                <span>Grumpier Old Men (1995)</span> <br/>\n",
       "                <span>3</span> <br/>\n",
       "                <span><li>Comedy</li><li>Romance</li></span>\n",
       "            </div>\n",
       "        "
      ],
      "text/plain": [
       "<IPython.core.display.HTML object>"
      ]
     },
     "metadata": {},
     "output_type": "display_data"
    }
   ],
   "source": [
    "from IPython.display import display, HTML\n",
    "def displayMovies(movies, movieIds, ratings=[]):\n",
    "    html = \"\"\n",
    "    for i, movieId in enumerate(movieIds):\n",
    "        movie = movies[movies['movieId'] == movieId].iloc[0]\n",
    "        html += f\"\"\"\n",
    "            <div style=\"display:inline-block;min-width:150px;max-width:150px; vertical-align:top\">\n",
    "                <img src='{movie.imgurl}' width=120> <br/>\n",
    "                <span>{movie.title}</span> <br/>\n",
    "                {f\"<span>{ratings[i]}</span> <br/>\" if len(ratings) > 0 else \"\"}\n",
    "                <span>{\"\".join([f\"<li>{genre}</li>\" for genre in movie.genres.split('|')])}</span>\n",
    "            </div>\n",
    "        \"\"\"\n",
    "        print(movie)\n",
    "        print(movieId)\n",
    "    display(HTML(html))\n",
    "\n",
    "displayMovies(movies, [1, 2, 3], [4, 3, 3])"
   ]
  },
  {
   "cell_type": "code",
   "execution_count": 28,
   "metadata": {},
   "outputs": [
    {
     "name": "stdout",
     "output_type": "stream",
     "text": [
      "MAE : 0.3667\n",
      "RMSE : 0.4359\n"
     ]
    }
   ],
   "source": [
    "def getMAE(real, pred):\n",
    "    errors = (real - pred).abs().mean()\n",
    "    return errors\n",
    "\n",
    "def getRMSE(real, pred):\n",
    "    errors = math.sqrt((real- pred).pow(2).mean())\n",
    "    return errors\n",
    "mat = np.array([\n",
    "    [1, 2, 3],\n",
    "    [3.0, 4.0, 5.0],\n",
    "    [3.2, 3.8, 4.3]\n",
    "])\n",
    "ratings = pd.DataFrame(data=mat.T, columns=['movieId', 'rating', 'pred'])\n",
    "ratings\n",
    "\n",
    "mae = getMAE(ratings['rating'], ratings['pred'])\n",
    "rmse = getRMSE(ratings['rating'], ratings['pred'])\n",
    "print(f\"MAE : {mae:.4f}\")\n",
    "print(f\"RMSE : {rmse:.4f}\")"
   ]
  },
  {
   "cell_type": "code",
   "execution_count": 29,
   "metadata": {},
   "outputs": [],
   "source": [
    "%run lib.py"
   ]
  },
  {
   "cell_type": "code",
   "execution_count": null,
   "metadata": {},
   "outputs": [],
   "source": []
  }
 ],
 "metadata": {
  "interpreter": {
   "hash": "b3ba2566441a7c06988d0923437866b63cedc61552a5af99d1f4fb67d367b25f"
  },
  "kernelspec": {
   "display_name": "Python 3.8.5 64-bit ('base': conda)",
   "name": "python3"
  },
  "language_info": {
   "codemirror_mode": {
    "name": "ipython",
    "version": 3
   },
   "file_extension": ".py",
   "mimetype": "text/x-python",
   "name": "python",
   "nbconvert_exporter": "python",
   "pygments_lexer": "ipython3",
   "version": "3.8.5"
  },
  "orig_nbformat": 4
 },
 "nbformat": 4,
 "nbformat_minor": 2
}
